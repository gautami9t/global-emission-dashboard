{
 "cells": [
  {
   "cell_type": "code",
   "execution_count": 1,
   "id": "ce9bc872",
   "metadata": {},
   "outputs": [],
   "source": [
    "import pandas as pd\n",
    "import os"
   ]
  },
  {
   "cell_type": "markdown",
   "id": "1d32ef82",
   "metadata": {},
   "source": [
    "Understanding our Data\n"
   ]
  },
  {
   "cell_type": "code",
   "execution_count": 2,
   "id": "127f74af",
   "metadata": {},
   "outputs": [],
   "source": [
    "file_path = r\"GCB2022v27_MtCO2_flat.csv\"\n",
    "df = pd.read_csv(file_path)"
   ]
  },
  {
   "cell_type": "code",
   "execution_count": 3,
   "id": "fc8a5a11",
   "metadata": {},
   "outputs": [
    {
     "name": "stdout",
     "output_type": "stream",
     "text": [
      "Dataset shape: (63104, 11)\n",
      "First 5 rows:\n",
      "        Country ISO 3166-1 alpha-3  Year  Total  Coal  Oil  Gas  Cement  \\\n",
      "0  Afghanistan                AFG  1750    0.0   NaN  NaN  NaN     NaN   \n",
      "1  Afghanistan                AFG  1751    0.0   NaN  NaN  NaN     NaN   \n",
      "2  Afghanistan                AFG  1752    0.0   NaN  NaN  NaN     NaN   \n",
      "3  Afghanistan                AFG  1753    0.0   NaN  NaN  NaN     NaN   \n",
      "4  Afghanistan                AFG  1754    0.0   NaN  NaN  NaN     NaN   \n",
      "5  Afghanistan                AFG  1755    0.0   NaN  NaN  NaN     NaN   \n",
      "6  Afghanistan                AFG  1756    0.0   NaN  NaN  NaN     NaN   \n",
      "7  Afghanistan                AFG  1757    0.0   NaN  NaN  NaN     NaN   \n",
      "8  Afghanistan                AFG  1758    0.0   NaN  NaN  NaN     NaN   \n",
      "9  Afghanistan                AFG  1759    0.0   NaN  NaN  NaN     NaN   \n",
      "\n",
      "   Flaring  Other  Per Capita  \n",
      "0      NaN    NaN         NaN  \n",
      "1      NaN    NaN         NaN  \n",
      "2      NaN    NaN         NaN  \n",
      "3      NaN    NaN         NaN  \n",
      "4      NaN    NaN         NaN  \n",
      "5      NaN    NaN         NaN  \n",
      "6      NaN    NaN         NaN  \n",
      "7      NaN    NaN         NaN  \n",
      "8      NaN    NaN         NaN  \n",
      "9      NaN    NaN         NaN  \n"
     ]
    }
   ],
   "source": [
    "print(\"Dataset shape:\", df.shape)\n",
    "print(\"First 5 rows:\\n\", df.head(10))"
   ]
  },
  {
   "cell_type": "code",
   "execution_count": 4,
   "id": "0d368d89",
   "metadata": {},
   "outputs": [
    {
     "name": "stdout",
     "output_type": "stream",
     "text": [
      "Columns: ['Country', 'ISO 3166-1 alpha-3', 'Year', 'Total', 'Coal', 'Oil', 'Gas', 'Cement', 'Flaring', 'Other', 'Per Capita']\n"
     ]
    }
   ],
   "source": [
    "print(\"Columns:\", df.columns.tolist())"
   ]
  },
  {
   "cell_type": "code",
   "execution_count": 5,
   "id": "0d720bbf",
   "metadata": {},
   "outputs": [
    {
     "name": "stdout",
     "output_type": "stream",
     "text": [
      "\n",
      "Dataset info:\n",
      "\n",
      "<class 'pandas.core.frame.DataFrame'>\n",
      "RangeIndex: 63104 entries, 0 to 63103\n",
      "Data columns (total 11 columns):\n",
      " #   Column              Non-Null Count  Dtype  \n",
      "---  ------              --------------  -----  \n",
      " 0   Country             63104 non-null  object \n",
      " 1   ISO 3166-1 alpha-3  61472 non-null  object \n",
      " 2   Year                63104 non-null  int64  \n",
      " 3   Total               62904 non-null  float64\n",
      " 4   Coal                21744 non-null  float64\n",
      " 5   Oil                 21717 non-null  float64\n",
      " 6   Gas                 21618 non-null  float64\n",
      " 7   Cement              20814 non-null  float64\n",
      " 8   Flaring             21550 non-null  float64\n",
      " 9   Other               1620 non-null   float64\n",
      " 10  Per Capita          18974 non-null  float64\n",
      "dtypes: float64(8), int64(1), object(2)\n",
      "memory usage: 5.3+ MB\n",
      "None\n"
     ]
    }
   ],
   "source": [
    "print(\"\\nDataset info:\\n\")\n",
    "print(df.info())"
   ]
  },
  {
   "cell_type": "code",
   "execution_count": 6,
   "id": "e35db52e",
   "metadata": {},
   "outputs": [
    {
     "name": "stdout",
     "output_type": "stream",
     "text": [
      "\n",
      "Missing values per column:\n",
      "\n",
      "Country                   0\n",
      "ISO 3166-1 alpha-3     1632\n",
      "Year                      0\n",
      "Total                   200\n",
      "Coal                  41360\n",
      "Oil                   41387\n",
      "Gas                   41486\n",
      "Cement                42290\n",
      "Flaring               41554\n",
      "Other                 61484\n",
      "Per Capita            44130\n",
      "dtype: int64\n"
     ]
    }
   ],
   "source": [
    "print(\"\\nMissing values per column:\\n\")\n",
    "print(df.isnull().sum())"
   ]
  },
  {
   "cell_type": "code",
   "execution_count": 7,
   "id": "dd13fa1e",
   "metadata": {},
   "outputs": [
    {
     "name": "stdout",
     "output_type": "stream",
     "text": [
      "\n",
      "Year range: 1750 - 2021\n",
      "Number of unique countries: 232\n"
     ]
    }
   ],
   "source": [
    "print(\"\\nYear range:\", df['Year'].min(), \"-\", df['Year'].max())\n",
    "print(\"Number of unique countries:\", df['Country'].nunique())"
   ]
  },
  {
   "cell_type": "code",
   "execution_count": 8,
   "id": "96650ba7",
   "metadata": {},
   "outputs": [
    {
     "name": "stdout",
     "output_type": "stream",
     "text": [
      "\n",
      "Top 10 countries by record count:\n",
      "Country\n",
      "Afghanistan                       272\n",
      "Peru                              272\n",
      "Niger                             272\n",
      "Nigeria                           272\n",
      "Niue                              272\n",
      "Norway                            272\n",
      "Occupied Palestinian Territory    272\n",
      "Oman                              272\n",
      "Pacific Islands (Palau)           272\n",
      "Pakistan                          272\n",
      "Name: count, dtype: int64\n"
     ]
    }
   ],
   "source": [
    "print(\"\\nTop 10 countries by record count:\")\n",
    "print(df['Country'].value_counts().head(10))"
   ]
  },
  {
   "cell_type": "code",
   "execution_count": null,
   "id": "fb71bbee",
   "metadata": {},
   "outputs": [
    {
     "name": "stdout",
     "output_type": "stream",
     "text": [
      "\n",
      "Summary statistics for emission columns:\n",
      "              Total          Coal           Oil           Gas        Cement  \\\n",
      "count  62904.000000  21744.000000  21717.000000  21618.000000  20814.000000   \n",
      "mean      55.224788     73.968916     55.760624     23.504285      4.330443   \n",
      "std      824.845435    598.986992    519.034563    247.674772     50.305770   \n",
      "min        0.000000      0.000000      0.000000      0.000000      0.000000   \n",
      "25%        0.000000      0.000000      0.091600      0.000000      0.000000   \n",
      "50%        0.000000      0.271852      1.044240      0.000000      0.022756   \n",
      "75%        0.549342      6.736411      8.339752      0.581628      0.568502   \n",
      "max    37123.850352  15051.512770  12345.653374   7921.829472   1672.592372   \n",
      "\n",
      "            Flaring  \n",
      "count  21550.000000  \n",
      "mean       1.712695  \n",
      "std       16.727067  \n",
      "min        0.000000  \n",
      "25%        0.000000  \n",
      "50%        0.000000  \n",
      "75%        0.000000  \n",
      "max      439.253991  \n"
     ]
    }
   ],
   "source": [
    "emission_columns = ['Total', 'Coal', 'Oil', 'Gas', 'Cement', 'Flaring']\n",
    "print(\"\\nSummary statistics for emission columns:\")\n",
    "print(df[emission_columns].describe())"
   ]
  },
  {
   "cell_type": "code",
   "execution_count": null,
   "id": "e7e9135c",
   "metadata": {},
   "outputs": [
    {
     "name": "stdout",
     "output_type": "stream",
     "text": [
      "\n",
      "Unique special rows in 'Country':\n",
      "['International Transport']\n"
     ]
    }
   ],
   "source": [
    "print(\"\\nUnique special rows in 'Country':\")\n",
    "special_rows = df[df['Country'].str.contains('World|International|Transport', case=False)]\n",
    "print(special_rows['Country'].unique())"
   ]
  },
  {
   "cell_type": "code",
   "execution_count": null,
   "id": "27835ba0",
   "metadata": {},
   "outputs": [
    {
     "name": "stdout",
     "output_type": "stream",
     "text": [
      "\n",
      "Sample trend for India:\n",
      "       Year        Total\n",
      "25296  1750     0.000000\n",
      "25297  1751     0.000000\n",
      "25298  1752     0.000000\n",
      "25299  1753     0.000000\n",
      "25300  1754     0.000000\n",
      "...     ...          ...\n",
      "25563  2017  2434.867906\n",
      "25564  2018  2600.446463\n",
      "25565  2019  2626.459473\n",
      "25566  2020  2445.011942\n",
      "25567  2021  2709.683625\n",
      "\n",
      "[272 rows x 2 columns]\n"
     ]
    }
   ],
   "source": [
    "print(\"\\nSample trend for India:\")\n",
    "print(df[df['Country'] == 'India'][['Year', 'Total']].sort_values('Year'))\n"
   ]
  },
  {
   "cell_type": "markdown",
   "id": "afc230bf",
   "metadata": {},
   "source": [
    "Data Cleaning"
   ]
  },
  {
   "cell_type": "code",
   "execution_count": 12,
   "id": "e421938e",
   "metadata": {},
   "outputs": [],
   "source": [
    "df = df[df['Year'].between(2002, 2021)]\n"
   ]
  },
  {
   "cell_type": "code",
   "execution_count": 13,
   "id": "c90572be",
   "metadata": {},
   "outputs": [],
   "source": [
    "df = df[df['Country'] != 'International Transport']\n"
   ]
  },
  {
   "cell_type": "code",
   "execution_count": null,
   "id": "73533d6b",
   "metadata": {},
   "outputs": [],
   "source": [
    "df = df.drop(columns=['Other', 'Per Capita'])"
   ]
  },
  {
   "cell_type": "code",
   "execution_count": null,
   "id": "30f83a76",
   "metadata": {},
   "outputs": [],
   "source": [
    "df = df.dropna(subset=['Total'])\n"
   ]
  },
  {
   "cell_type": "markdown",
   "id": "e3bad7c0",
   "metadata": {},
   "source": [
    "Mapping ISO Country Codes"
   ]
  },
  {
   "cell_type": "code",
   "execution_count": 16,
   "id": "36545422",
   "metadata": {},
   "outputs": [],
   "source": [
    "iso_df = pd.read_csv(\"https://raw.githubusercontent.com/plotly/datasets/master/2014_world_gdp_with_codes.csv\")\n"
   ]
  },
  {
   "cell_type": "code",
   "execution_count": 17,
   "id": "2d362762",
   "metadata": {},
   "outputs": [],
   "source": [
    "iso_df = iso_df[['COUNTRY', 'CODE']].rename(columns={'COUNTRY': 'Country', 'CODE': 'ISO_Code'})"
   ]
  },
  {
   "cell_type": "code",
   "execution_count": 18,
   "id": "5b20c18b",
   "metadata": {},
   "outputs": [],
   "source": [
    "df = df.merge(iso_df, on='Country', how='left')"
   ]
  },
  {
   "cell_type": "code",
   "execution_count": 19,
   "id": "62d53561",
   "metadata": {},
   "outputs": [],
   "source": [
    "df['ISO 3166-1 alpha-3'] = df['ISO 3166-1 alpha-3'].fillna(df['ISO_Code'])\n",
    "df.drop(columns=['ISO_Code'], inplace=True)"
   ]
  },
  {
   "cell_type": "markdown",
   "id": "85cdf214",
   "metadata": {},
   "source": [
    "Joining our Dataset with Population Data"
   ]
  },
  {
   "cell_type": "code",
   "execution_count": 20,
   "id": "0eaf9e8b",
   "metadata": {},
   "outputs": [],
   "source": [
    "\n",
    "pop_df = pd.read_csv(r\"population.csv\")"
   ]
  },
  {
   "cell_type": "code",
   "execution_count": 21,
   "id": "16818d3e",
   "metadata": {},
   "outputs": [
    {
     "name": "stdout",
     "output_type": "stream",
     "text": [
      "  Country Name Country Code  Year      Value\n",
      "0  Afghanistan          AFG  1960  9035043.0\n",
      "1  Afghanistan          AFG  1961  9214083.0\n",
      "2  Afghanistan          AFG  1962  9404406.0\n",
      "3  Afghanistan          AFG  1963  9604487.0\n",
      "4  Afghanistan          AFG  1964  9814318.0\n"
     ]
    }
   ],
   "source": [
    "print(pop_df.head())"
   ]
  },
  {
   "cell_type": "code",
   "execution_count": null,
   "id": "aa349915",
   "metadata": {},
   "outputs": [],
   "source": [
    "pop_df = pop_df.rename(columns={\"Country Name\": \"Country\", \"Value\": \"Population\"})"
   ]
  },
  {
   "cell_type": "code",
   "execution_count": null,
   "id": "5b050d59",
   "metadata": {},
   "outputs": [],
   "source": [
    "pop_df = pop_df[pop_df['Year'].between(2002, 2021)]"
   ]
  },
  {
   "cell_type": "code",
   "execution_count": 24,
   "id": "0177c659",
   "metadata": {},
   "outputs": [],
   "source": [
    "df= df.merge(pop_df[['Country', 'Year', 'Population']], on=['Country', 'Year'], how='left')\n"
   ]
  },
  {
   "cell_type": "code",
   "execution_count": 25,
   "id": "6b41e9ae",
   "metadata": {},
   "outputs": [
    {
     "name": "stdout",
     "output_type": "stream",
     "text": [
      "After merge, missing population rows: 1100\n"
     ]
    }
   ],
   "source": [
    "print(\"After merge, missing population rows:\", df['Population'].isnull().sum())\n"
   ]
  },
  {
   "cell_type": "code",
   "execution_count": null,
   "id": "43b7b3f9",
   "metadata": {},
   "outputs": [],
   "source": [
    "df['Emissions_per_capita'] = df['Total'] / df['Population']\n"
   ]
  },
  {
   "cell_type": "code",
   "execution_count": 27,
   "id": "8b55818d",
   "metadata": {},
   "outputs": [],
   "source": [
    "df.to_csv(r\"emissions_with_population.csv\", index=False)"
   ]
  },
  {
   "cell_type": "code",
   "execution_count": 28,
   "id": "6550ab43",
   "metadata": {},
   "outputs": [
    {
     "name": "stdout",
     "output_type": "stream",
     "text": [
      "       Country ISO 3166-1 alpha-3  Year     Total      Coal       Oil  \\\n",
      "0  Afghanistan                AFG  2002  1.340995  0.055109  0.727438   \n",
      "1  Afghanistan                AFG  2003  1.559602  0.091813  0.991575   \n",
      "2  Afghanistan                AFG  2004  1.237247  0.091600  0.908672   \n",
      "3  Afghanistan                AFG  2005  1.889507  0.106256  1.447280   \n",
      "4  Afghanistan                AFG  2006  2.159318  0.160944  1.656993   \n",
      "\n",
      "        Gas    Cement  Flaring  Population  Emissions_per_capita  \n",
      "0  0.547416  0.011033      0.0  21378117.0          6.272746e-08  \n",
      "1  0.466408  0.009807      0.0  22733049.0          6.860505e-08  \n",
      "2  0.227168  0.009807      0.0  23560654.0          5.251327e-08  \n",
      "3  0.329760  0.006211      0.0  24404567.0          7.742432e-08  \n",
      "4  0.329204  0.012177      0.0  25424094.0          8.493195e-08  \n"
     ]
    }
   ],
   "source": [
    "print(df.head())\n"
   ]
  },
  {
   "cell_type": "code",
   "execution_count": 29,
   "id": "cffb84a7",
   "metadata": {},
   "outputs": [
    {
     "name": "stdout",
     "output_type": "stream",
     "text": [
      "['Country', 'ISO 3166-1 alpha-3', 'Year', 'Total', 'Coal', 'Oil', 'Gas', 'Cement', 'Flaring', 'Population', 'Emissions_per_capita']\n",
      "Country                  object\n",
      "ISO 3166-1 alpha-3       object\n",
      "Year                      int64\n",
      "Total                   float64\n",
      "Coal                    float64\n",
      "Oil                     float64\n",
      "Gas                     float64\n",
      "Cement                  float64\n",
      "Flaring                 float64\n",
      "Population              float64\n",
      "Emissions_per_capita    float64\n",
      "dtype: object\n"
     ]
    }
   ],
   "source": [
    "print(df.columns.tolist())\n",
    "print(df.dtypes)\n"
   ]
  },
  {
   "cell_type": "code",
   "execution_count": null,
   "id": "c0212615",
   "metadata": {},
   "outputs": [
    {
     "name": "stdout",
     "output_type": "stream",
     "text": [
      "              Total    Population  Emissions_per_capita\n",
      "count   4620.000000  3.520000e+03          3.520000e+03\n",
      "mean     283.370938  3.470585e+07          4.948853e-06\n",
      "std     2297.151090  1.419822e+08          6.576423e-06\n",
      "min        0.000000  9.623000e+03          0.000000e+00\n",
      "25%        0.673925  1.346008e+06          6.266451e-07\n",
      "50%        6.596013  6.816566e+06          2.722178e-06\n",
      "75%       50.464774  2.050388e+07          6.658775e-06\n",
      "max    37123.850352  1.414204e+09          6.496179e-05\n"
     ]
    }
   ],
   "source": [
    "print(df[['Total', 'Population', 'Emissions_per_capita']].describe())"
   ]
  }
 ],
 "metadata": {
  "kernelspec": {
   "display_name": "gpu_env",
   "language": "python",
   "name": "python3"
  },
  "language_info": {
   "codemirror_mode": {
    "name": "ipython",
    "version": 3
   },
   "file_extension": ".py",
   "mimetype": "text/x-python",
   "name": "python",
   "nbconvert_exporter": "python",
   "pygments_lexer": "ipython3",
   "version": "3.10.16"
  }
 },
 "nbformat": 4,
 "nbformat_minor": 5
}
